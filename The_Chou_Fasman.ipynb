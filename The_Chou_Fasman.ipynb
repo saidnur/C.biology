{
 "cells": [
  {
   "cell_type": "markdown",
   "metadata": {
    "collapsed": true
   },
   "source": [
    "# The Chou-Fasman Method"
   ]
  },
  {
   "cell_type": "code",
   "execution_count": 1,
   "metadata": {},
   "outputs": [
    {
     "name": "stdout",
     "output_type": "stream",
     "text": [
      "Populating the interactive namespace from numpy and matplotlib\n"
     ]
    }
   ],
   "source": [
    "%pylab inline\n",
    "%matplotlib inline"
   ]
  },
  {
   "cell_type": "code",
   "execution_count": 2,
   "metadata": {
    "collapsed": true
   },
   "outputs": [],
   "source": [
    "import string\n",
    "import sys\n",
    "from Bio import SeqIO "
   ]
  },
  {
   "cell_type": "markdown",
   "metadata": {},
   "source": [
    "Read data from internet ...\n",
    " ### Our Data\n",
    " * UCI train data : 'https://archive.ics.uci.edu/ml/machine-learning-databases/undocumented/connectionist-bench/protein/protein.train'\n",
    " * protein1 : [Beta Globin (Human)]('http://www.uniprot.org/uniprot/P68871')\n",
    " * protein2 : [Beta Globin (Mouse)]('http://www.uniprot.org/uniprot/P02088')\n"
   ]
  },
  {
   "cell_type": "markdown",
   "metadata": {},
   "source": [
    "# Read Data"
   ]
  },
  {
   "cell_type": "code",
   "execution_count": 114,
   "metadata": {
    "collapsed": true
   },
   "outputs": [],
   "source": [
    "#Read a protein sequence from a fasta file\n",
    "def get_sequence(file_path):\n",
    "    for seq_record in SeqIO.parse(file_path, \"fasta\"):\n",
    "        return seq_record.seq"
   ]
  },
  {
   "cell_type": "code",
   "execution_count": 115,
   "metadata": {
    "collapsed": true
   },
   "outputs": [],
   "source": [
    "#Read a protein sequence from a txt file\n",
    "def from_txt(file_path):\n",
    "    seq=[]\n",
    "    with open('file_path') as input_file:\n",
    "        for line in input_file:\n",
    "            seq.append(line.split())\n",
    "    return []"
   ]
  },
  {
   "cell_type": "code",
   "execution_count": null,
   "metadata": {
    "collapsed": true
   },
   "outputs": [],
   "source": [
    "# The sequence of beta globin proteins above\n",
    "protein1 = 'MVHLTPEEKSAVTALWGKVNVDEVGGEALGRLLVVYPWTQRFFESFGDLSTPDAVMGNPKVKAHGKKVLGAFSDGLAHLDNLKGTFATLSELHCDKLHVDPENFRLLGNVLVCVLAHHFGKEFTPPVQAAYQKVVAGVANALAHKYH'\n",
    "protein2 = 'MVHLTDAEKAAVSCLWGKVNSDEVGGEALGRLLVVYPWTQRYFDSFGDLSSASAIMGNAKVKAHGKKVITAFNDGLNHLDSLKGTFASLSELHCDKLHVDPENFRLLGNMIVIVLGHHLGKDFTPAAQAAFQKVVAGVATALAHKYH'"
   ]
  },
  {
   "cell_type": "code",
   "execution_count": 135,
   "metadata": {
    "collapsed": true
   },
   "outputs": [],
   "source": [
    "#Sequence and it states from UCI\n",
    "seq=[]\n",
    "with open('pro1.txt') as input_file:\n",
    "    for line in input_file:\n",
    "        seq.append(line.split())\n",
    "pre1=[]\n",
    "pro1=[]\n",
    "for i in seq:\n",
    "    pre1.append(i[1])\n",
    "    pro1.append(i[0])\n",
    "    \n",
    "for i in range(len(pre1)):\n",
    "    pre[i]\n",
    "    if pre1[i]== '_':\n",
    "        pre1[i] = '-'\n",
    "pre1 = ''.join(pre1)\n",
    "pro1 = ''.join(pro1)"
   ]
  },
  {
   "cell_type": "code",
   "execution_count": 138,
   "metadata": {},
   "outputs": [
    {
     "data": {
      "text/plain": [
       "'-------------------ee------ee--eee------ee-----------------------------------------ee--------------------eeeee------------eee---------------hhhhhhh-----------eee-----eee----------------------------ee---------------ee--------ee------------------------------------------------------------------------ee-hhhh-----eee---eee-----'"
      ]
     },
     "execution_count": 138,
     "metadata": {},
     "output_type": "execute_result"
    }
   ],
   "source": [
    "pre1"
   ]
  },
  {
   "cell_type": "markdown",
   "metadata": {},
   "source": [
    "The Chou-Fasman table, with rows of the table indexed by amino acid name. The table consists of a set of prediction values to a residue.\n",
    "The table is provided from [rockefeller.edu](http://prowl.rockefeller.edu/aainfo/chou.htm)"
   ]
  },
  {
   "cell_type": "code",
   "execution_count": 50,
   "metadata": {
    "collapsed": true
   },
   "outputs": [],
   "source": [
    "\n",
    "# Columns are          SYM,P(a), P(b),P(turn), f(i),   f(i+1), f(i+2), f(i+3)\n",
    "\n",
    "CF = {\n",
    "'Alanine': ['A', 142,   83,   66,   0.06,   0.076,  0.035,  0.058],\n",
    "'Arginine':      ['R',  98,   93,   95,   0.070,  0.106,  0.099,  0.085],\n",
    "'Aspartic Acid': ['N', 101,   54,  146,   0.147,  0.110,  0.179,  0.081],\n",
    "'Asparagine':    ['D',  67,   89,  156,   0.161,  0.083,  0.191,  0.091],\n",
    "'Cysteine':      ['C',  70,  119,  119,   0.149,  0.050,  0.117,  0.128],\n",
    "'Glutamic Acid': ['E', 151,   37,   74,   0.056,  0.060,  0.077,  0.064],\n",
    "'Glutamine':     ['Q', 111,  110,   98,   0.074,  0.098,  0.037,  0.098],\n",
    "'Glycine':  ['G',  57,   75,  156,   0.102,  0.085,  0.190,  0.152],\n",
    "'Histidine':['H', 100,   87,   95,   0.140,  0.047,  0.093,  0.054],\n",
    "'Isoleucine': ['I', 108,  160,   47,   0.043,  0.034,  0.013,  0.056],\n",
    "'Leucine':  ['L', 121,  130,   59,   0.061,  0.025,  0.036,  0.070],\n",
    "'Lysine':   ['K', 114,   74,  101,   0.055,  0.115,  0.072,  0.095],\n",
    "'Methionine': ['M', 145,  105,   60,   0.068,  0.082,  0.014,  0.055],\n",
    "'Phenylalanine':['F', 113,  138,   60,   0.059,  0.041,  0.065,  0.065],\n",
    "'Proline':   ['P',  57,   55,  152,   0.102,  0.301,  0.034,  0.068],\n",
    "'Serine':   ['S',  77,   75,  143,   0.120,  0.139,  0.125,  0.106],\n",
    "'Threonine':['T',  83,  119,   96,   0.086,  0.108,  0.065,  0.079],\n",
    "'Tryptophan': ['W', 108,  137,   96,   0.077,  0.013,  0.064,  0.167],\n",
    "'Tyrosine': ['Y',  69,  147,  114,   0.082,  0.065,  0.114,  0.125],\n",
    "'Valine':['V', 106,  170,   50,   0.062,  0.048,  0.028,  0.053]}\n"
   ]
  },
  {
   "cell_type": "code",
   "execution_count": 51,
   "metadata": {},
   "outputs": [
    {
     "data": {
      "text/plain": [
       "['A', 142, 83, 66, 0.06, 0.076, 0.035, 0.058]"
      ]
     },
     "execution_count": 51,
     "metadata": {},
     "output_type": "execute_result"
    }
   ],
   "source": [
    "CF[\"Alanine\"]"
   ]
  },
  {
   "cell_type": "code",
   "execution_count": 64,
   "metadata": {
    "collapsed": true
   },
   "outputs": [],
   "source": [
    "def findingAlpha(protein): #CF_find_alpha\n",
    "    #Find all likely alpha helices in sequence.\n",
    "    start = 0\n",
    "    results = []\n",
    "    plength = len(protein)\n",
    "    # Try all window from beginning\n",
    "    while (start + 6 < plength):\n",
    "        # Count the number of \"good\" amino acids (those likely to be\n",
    "        # in an alpha helix).\n",
    "        numgood = 0\n",
    "        for i in range(start, start+6):\n",
    "            if (Pa[protein[i]] > 100):\n",
    "                numgood = numgood + 1\n",
    "        if (numgood >= 4):\n",
    "            [estart,end] = extendAlpha(protein, start, start+6)\n",
    "            if [estart,end] not in results:\n",
    "                results.append([estart,end])\n",
    "        # Go on to the next residue\n",
    "        start = start + 1\n",
    "    return results\n",
    "\n",
    "def extendAlpha(seq, start, end):\n",
    "    #Extend a potential alpha helix sequence.\n",
    "    # We extend the region in both directions until the average propensity for a set of four \n",
    "    # contiguous residues has Pa < 100, which means that the helix breaks there\n",
    "\n",
    "    while ( float(sum([Pa[x] for x in seq[end-3:end+1]])) / float(4) ) > 100 and end < len(seq)-1:\n",
    "        end += 1\n",
    "    while ( float(sum([Pa[x] for x in seq[start:start+4]])) / float(4) ) > 100 and start > 0:\n",
    "        start -= 1\n",
    "\n",
    "    return [start,end]\n",
    "\n",
    "def findingBeta(protein):\n",
    "    #Find all likely beta strands in seq.\n",
    "    start = 0\n",
    "    results = []\n",
    "    plength = len(protein)\n",
    "    # Try each window\n",
    "    while (start + 5 < plength):\n",
    "        # Count the number of beta maker\n",
    "        bmaker = 0\n",
    "        for i in range(start, start+5):\n",
    "            if (Pb[protein[i]] > 100):\n",
    "                bmaker = bmaker + 1\n",
    "        if (bmaker >= 3):\n",
    "            [estart,end] = extendBeta(protein, start, start+5)\n",
    "            if [estart,end] not in results:\n",
    "                results.append([estart,end])\n",
    "        # Go on to the next frame\n",
    "        start = start + 1\n",
    "    return results\n",
    "\n",
    "def extendBeta(seq, start, end):\n",
    "    #Extend a potential beta helix sequence.\n",
    "    # We extend the region in both directions until the average propensity for a set of four \n",
    "    # contiguous residues has Pb < 100, which means that the beta breaks there\n",
    "\n",
    "    while ( float(sum([Pb[x] for x in seq[end-3:end+1]])) / float(4) ) > 100 and end < len(seq)-1:\n",
    "        end += 1\n",
    "    while ( float(sum([Pb[x] for x in seq[start:start+4]])) / float(4) ) > 100 and start > 0:\n",
    "        start -= 1\n",
    "    return [start,end]\n",
    "\n",
    "\n",
    "def findingTurns(seq):\n",
    "    #Find all likely beta turns in seq.\n",
    "    result = []\n",
    "    plength = len(seq)\n",
    "    #p(t) = f(j)f(j+1)f(j+2)f(j+3)>0.000075\n",
    "    #p(t) > 100 for four residues\n",
    "    #p(t) > P(a) & p(t) > P(b)\n",
    "    for i in range(plength-3):\n",
    "        c1 = F0[seq[i]]*F1[seq[i+1]]*F2[seq[i+2]]*F3[seq[i+3]] > 0.000075\n",
    "        c2 = ( float(sum([Pturn[x] for x in seq[i:i+4]])) / float(4) ) > 100\n",
    "        c3 = sum([Pturn[x] for x in seq[i:i+4]]) > max(sum([Pa[x] for x in seq[i:i+4]]),sum([Pb[x] for x in seq[i:i+4]]))\n",
    "        if c1 and c2 and c3:\n",
    "            result.append(i)\n",
    "    return result\n",
    "\n",
    "def r_overlap(region_a, region_b):\n",
    "    #Given two regions, determine if the two regions overlap.\n",
    " \n",
    "    return (region_a[0] <= region_b[0] <= region_a[1]) or \\\n",
    "           (region_b[0] <= region_a[0] <= region_b[1])\n",
    "          \n",
    "def r_merge(region_a, region_b):\n",
    "    #Given two regions, return the minimum region that contains both regions.\n",
    "    return [min(region_a[0], region_b[0]), max(region_a[1], region_b[1])]\n",
    "\n",
    "def r_intersect(region_a, region_b):\n",
    "    #Given two regions, return the intersection of the two regions.\n",
    "\n",
    "    return [max(region_a[0], region_b[0]), min(region_a[1], region_b[1])]\n",
    "\n",
    "def r_difference(region_a, region_b):\n",
    "    \n",
    "    # region_a start before region_b and stop before region_b\n",
    "    if region_a[0] < region_b[0] and region_a[1] <= region_b[1]:\n",
    "        return [[region_a[0], region_b[0]-1]]\n",
    "    # region_a start after region_b and stop after region_b\n",
    "    elif region_a[0] >= region_b[0] and region_a[1] > region_b[1]:\n",
    "        return [[region_b[1]+1,region_a[1]]]\n",
    "    # region_b is included in region_a => return 2 regions\n",
    "    elif region_a[0] < region_b[0] and region_a[1] > region_b[1]:\n",
    "        return [[region_a[0], region_b[0]-1],[region_b[1]+1,region_a[1]]]\n",
    "    # region_a is included in region_b\n",
    "    else:\n",
    "        return []\n"
   ]
  },
  {
   "cell_type": "code",
   "execution_count": 108,
   "metadata": {
    "collapsed": true
   },
   "outputs": [],
   "source": [
    "def ChouFasman(seq):\n",
    "    # H -> 'alpha helix'\n",
    "    # B -> 'beta strand'\n",
    "    # T ->  Coil\n",
    "\n",
    "\n",
    "    # Find probable locations of alpha helices, beta strands, and beta turns.\n",
    "    alphas = findingAlpha(seq)\n",
    "    betas = findingBeta(seq)\n",
    "    turns = findingTurns(seq)\n",
    "\n",
    "    alphas2 = []\n",
    "    alphas_to_test = alphas\n",
    "    betas_to_test = betas\n",
    "    while len(alphas_to_test) > 0:\n",
    "        alpha = alphas_to_test.pop()\n",
    "        # a_shorten record if the alpha helix region has been shorten\n",
    "        a_shorten = False\n",
    "        for beta in betas_to_test:\n",
    "            if r_overlap(alpha,beta):\n",
    "                inter = r_intersect(alpha,beta)\n",
    "                sum_Pa = sum([Pa[seq[i]] for i in range(inter[0],inter[1]+1)])\n",
    "                sum_Pb = sum([Pb[seq[i]] for i in range(inter[0],inter[1]+1)])\n",
    "                \n",
    "                if sum_Pa > sum_Pb:\n",
    "                    # No more uncertainty on this overlap region: it will be a alpha helix\n",
    "                    diff = r_difference(beta,alpha)\n",
    "                    for d in diff:\n",
    "                        if d[1]-d[0] > 4:\n",
    "                            betas_to_test.append(d)\n",
    "                    betas_to_test.remove(beta)\n",
    "                else:\n",
    "                    # No more uncertainty on this overlap region: it will be a beta strand\n",
    "                    a_shorten = True\n",
    "                    diff = r_difference(alpha,beta)\n",
    "                    for d in diff:\n",
    "                        if d[1]-d[0] > 4:\n",
    "                            alphas_to_test.append(d)\n",
    "        if not a_shorten:\n",
    "            alphas2.append(alpha)\n",
    "\n",
    "    alphas = alphas2\n",
    "    betas = betas_to_test\n",
    "                    \n",
    "    # Firstly build a space sequence length protein sequence. \n",
    "    analysis = ['-' for i in range(len(seq))]\n",
    "\n",
    "    # Fill in the predicted alpha helices\n",
    "    for alpha in alphas:\n",
    "        for i in range(alpha[0], alpha[1]):\n",
    "            analysis[i] = 'h'\n",
    "    # Fill in the predicted beta strands \n",
    "    for beta in betas:\n",
    "        for i in range(beta[0], beta[1]):\n",
    "            analysis[i] = 'e'\n",
    "    # Fill in the predicted beta turns\n",
    "    for turn in turns:\n",
    "        analysis[turn] = 't'\n",
    "\n",
    "    # Turn the analysis and the sequence into strings\n",
    "    prediction = ''.join(analysis)\n",
    "    origin_seq = ''.join(seq)\n",
    "    return [prediction, origin_seq]\n",
    "\n"
   ]
  },
  {
   "cell_type": "code",
   "execution_count": null,
   "metadata": {
    "collapsed": true
   },
   "outputs": [],
   "source": [
    "#find efficiency\n",
    "cnt = 0\n",
    "for i in range(len(pre)):\n",
    "    if(pre[i]==realstates[0][i]):\n",
    "        cnt = cnt +1\n",
    "        \n",
    "(cnt/len(pre))*100"
   ]
  },
  {
   "cell_type": "code",
   "execution_count": 110,
   "metadata": {},
   "outputs": [
    {
     "name": "stdout",
     "output_type": "stream",
     "text": [
      "eeeeee-thhhhhhhhhhhhhhhhhhhhhhhhhtteeeetetetheeeeeeete-hhhhhhtttttthhhhth------\n",
      "MKIDAIVGRNSAKDIRTEERARVQLGNVVTAAALHGGIRISDQTTNSVETVVGKGESRVLIGNEYGGKGFWDNHHHHHH\n"
     ]
    }
   ],
   "source": [
    "strPre=ChouFasman(protein1)\n",
    "print(strPre[0])\n",
    "print(strPre[1])"
   ]
  },
  {
   "cell_type": "code",
   "execution_count": 100,
   "metadata": {
    "collapsed": true
   },
   "outputs": [],
   "source": []
  },
  {
   "cell_type": "code",
   "execution_count": 101,
   "metadata": {
    "collapsed": true
   },
   "outputs": [],
   "source": []
  },
  {
   "cell_type": "code",
   "execution_count": 102,
   "metadata": {
    "collapsed": true
   },
   "outputs": [],
   "source": []
  },
  {
   "cell_type": "code",
   "execution_count": 103,
   "metadata": {
    "collapsed": true
   },
   "outputs": [],
   "source": []
  },
  {
   "cell_type": "code",
   "execution_count": 104,
   "metadata": {
    "collapsed": true
   },
   "outputs": [],
   "source": []
  },
  {
   "cell_type": "code",
   "execution_count": 105,
   "metadata": {
    "collapsed": true
   },
   "outputs": [],
   "source": []
  },
  {
   "cell_type": "code",
   "execution_count": 106,
   "metadata": {},
   "outputs": [
    {
     "data": {
      "text/plain": [
       "43.82716049382716"
      ]
     },
     "execution_count": 106,
     "metadata": {},
     "output_type": "execute_result"
    }
   ],
   "source": []
  },
  {
   "cell_type": "code",
   "execution_count": null,
   "metadata": {
    "collapsed": true
   },
   "outputs": [],
   "source": []
  }
 ],
 "metadata": {
  "kernelspec": {
   "display_name": "Python 3",
   "language": "python",
   "name": "python3"
  },
  "language_info": {
   "codemirror_mode": {
    "name": "ipython",
    "version": 3
   },
   "file_extension": ".py",
   "mimetype": "text/x-python",
   "name": "python",
   "nbconvert_exporter": "python",
   "pygments_lexer": "ipython3",
   "version": "3.6.2"
  }
 },
 "nbformat": 4,
 "nbformat_minor": 2
}
